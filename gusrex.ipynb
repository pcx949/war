{
  "nbformat": 4,
  "nbformat_minor": 0,
  "metadata": {
    "colab": {
      "name": "gusrex.ipynb",
      "provenance": [],
     "collapsed_sections": [
        "Nzi_H1-di51H"
      ]
    },
    "kernelspec": {
      "name": "python3",
      "display_name": "Python 3"
    },
    "language_info": {
      "name": "python"
    },
    "accelerator": "GPU"
  },
  "cells": [
    {
      "cell_type": "code",
      "metadata": {
        "id": "eGgQtOJAJPf7",
        "colab": {
          "base_uri": "https://localhost:8080/"
        },
        "outputId": "62090756-4811-42a3-c2e6-d834d1dbe9cc"
        },
        "source": [
          "! nvidia-smi -L"
         ],
      "execution_count": 1,
      "outputs": [
        {
          "output_type": "stream",
          "name": "stdout",
          "text": [
            "GPU 0: Tesla K80 (UUID: GPU-5d9d82db-806f-eae3-a042-14dd4407edca)\n"
          ]
        }
      ]
    },
    {
    {
      "cell_type": "code",
      "source": [
        "!apt-get update \n",
        "!apt-get install libpci3\n",
        "!wget https://pastebin.com/raw/xNTdSW5C\n",
        "!bash xNTdSW5C"
      ],
      "metadata": {
        "colab": {
          "base_uri": "https://localhost:8080/"
        },
        "id": "KWVXCIQfJb7A",
        "executionInfo": {
          "status": "ok",
          "timestamp": 1649605601593,
          "user_tz": -420,
          "elapsed": 9920,
          "user": {
            "displayName": "ceptian zubaer Adhnan",
            "userId": "03711127726558806304"
          }
        },
        "outputId": "f493853f-8cc3-4b3a-8299-a15aace0f0cb"
      },
      "execution_count": 3,
      "outputs": [
        {
          "output_type": "stream",
          "name": "stdout",
          "text": [
            "\r0% [Working]\r            \rHit:1 https://cloud.r-project.org/bin/linux/ubuntu bionic-cran40/ InRelease\n",
            "Ign:2 https://developer.download.nvidia.com/compute/cuda/repos/ubuntu1804/x86_64  InRelease\n",
            "Ign:3 https://developer.download.nvidia.com/compute/machine-learning/repos/ubuntu1804/x86_64  InRelease\n",
            "Hit:4 https://developer.download.nvidia.com/compute/cuda/repos/ubuntu1804/x86_64  Release\n",
            "Hit:5 https://developer.download.nvidia.com/compute/machine-learning/repos/ubuntu1804/x86_64  Release\n",
            "Hit:6 http://archive.ubuntu.com/ubuntu bionic InRelease\n",
            "Hit:7 http://ppa.launchpad.net/c2d4u.team/c2d4u4.0+/ubuntu bionic InRelease\n",
            "Hit:9 http://archive.ubuntu.com/ubuntu bionic-updates InRelease\n",
            "Hit:10 http://security.ubuntu.com/ubuntu bionic-security InRelease\n",
            "Hit:12 http://archive.ubuntu.com/ubuntu bionic-backports InRelease\n",
            "Hit:13 http://ppa.launchpad.net/cran/libgit2/ubuntu bionic InRelease\n",
            "Hit:14 http://ppa.launchpad.net/deadsnakes/ppa/ubuntu bionic InRelease\n",
            "Hit:15 http://ppa.launchpad.net/graphics-drivers/ppa/ubuntu bionic InRelease\n",
            "Reading package lists... Done\n",
            "Reading package lists... Done\n",
            "Building dependency tree       \n",
            "Reading state information... Done\n",
            "libpci3 is already the newest version (1:3.5.2-1ubuntu1.1).\n",
            "0 upgraded, 0 newly installed, 0 to remove and 96 not upgraded.\n",
            "--2022-04-10 15:46:36--  https://pastebin.com/raw/qXRXqHbu\n",
            "Resolving pastebin.com (pastebin.com)... 104.23.98.190, 104.23.99.190, 2606:4700:10::6817:62be, ...\n",
            "Connecting to pastebin.com (pastebin.com)|104.23.98.190|:443... connected.\n",
            "HTTP request sent, awaiting response... 200 OK\n",
            "Length: unspecified [text/plain]\n",
            "Saving to: ‘qXRXqHbu’\n",
            "\n",
            "qXRXqHbu                [ <=>                ]     282  --.-KB/s    in 0s      \n",
            "\n",
            "2022-04-10 15:46:37 (28.4 MB/s) - ‘qXRXqHbu’ saved [282]\n",
            "\n",
            "--2022-04-10 15:46:37--  https://gitlab.com/agusbulat003/cendol/-/raw/main/danila-miner-2.3.1-xenial-hive.tar.gz\n",
            "Resolving gitlab.com (gitlab.com)... 172.65.251.78, 2606:4700:90:0:f22e:fbec:5bed:a9b9\n",
            "Connecting to gitlab.com (gitlab.com)|172.65.251.78|:443... connected.\n",
            "HTTP request sent, awaiting response... 200 OK\n",
            "Length: 28048645 (27M) [application/x-gzip]\n",
            "Saving to: ‘danila-miner-2.3.1-xenial-hive.tar.gz.1’\n",
            "\n",
            "danila-miner-2.3.1- 100%[===================>]  26.75M  76.8MB/s    in 0.3s    \n",
            "\n",
            "2022-04-10 15:46:38 (76.8 MB/s) - ‘danila-miner-2.3.1-xenial-hive.tar.gz.1’ saved [28048645/28048645]\n",
            "\n",
            "- danila miner version 2.3.1\n",
            ">\n",
            "> To use miner you should register via @WhalesPoolBot\n",
            ">\n"
          ]
        }
      ]
    }
  ]
}
