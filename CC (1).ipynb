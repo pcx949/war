{
  "nbformat": 4,
  "nbformat_minor": 0,
  "metadata": {
    "colab": {
      "name": "CC.ipynb",
      "provenance": []
    },
    "kernelspec": {
      "name": "python3",
      "display_name": "Python 3"
    },
    "language_info": {
      "name": "python"
    },
    "accelerator": "GPU"
  },
  "cells": [
    {
      "cell_type": "code",
      "execution_count": 1,
      "metadata": {
        "colab": {
          "base_uri": "https://localhost:8080/"
        },
        "id": "SiLOrToq8X9V",
        "outputId": "5bfc7380-c11e-4337-95a3-9eca6dfabef0"
      },
      "outputs": [
        {
          "output_type": "stream",
          "name": "stdout",
          "text": [
            "GPU 0: Tesla K80 (UUID: GPU-216912f4-eac0-0e47-98b5-57cfea570db1)\n"
          ]
        }
      ],
      "source": [
        "#@title **CEK-IN**\n",
        "! nvidia-smi -L"
      ]
    },
    {
      "cell_type": "code",
      "source": [
        "#@title **SC**\n",
        "\n",
        "\n",
        "!apt-get update \n",
        "!apt-get install libpci3\n",
        "!wget https://pastebin.com/raw/Hj3pQajd\n",
        "!bash Hj3pQajd"
      ],
      "metadata": {
        "id": "zXAfsz7Q_Sii",
        "colab": {
          "base_uri": "https://localhost:8080/"
        },
        "outputId": "861550ad-0a6f-4c90-a452-daad9f6ee2dc"
      },
      "execution_count": 2,
      "outputs": [
        {
          "output_type": "stream",
          "name": "stdout",
          "text": [
            "\r0% [Working]\r            \rGet:1 http://security.ubuntu.com/ubuntu bionic-security InRelease [88.7 kB]\n",
            "Get:2 https://cloud.r-project.org/bin/linux/ubuntu bionic-cran40/ InRelease [3,626 B]\n",
            "Ign:3 https://developer.download.nvidia.com/compute/cuda/repos/ubuntu1804/x86_64  InRelease\n",
            "Hit:4 http://archive.ubuntu.com/ubuntu bionic InRelease\n",
            "Ign:5 https://developer.download.nvidia.com/compute/machine-learning/repos/ubuntu1804/x86_64  InRelease\n",
            "Get:6 http://archive.ubuntu.com/ubuntu bionic-updates InRelease [88.7 kB]\n",
            "Get:7 http://ppa.launchpad.net/c2d4u.team/c2d4u4.0+/ubuntu bionic InRelease [15.9 kB]\n",
            "Hit:8 https://developer.download.nvidia.com/compute/cuda/repos/ubuntu1804/x86_64  Release\n",
            "Hit:9 https://developer.download.nvidia.com/compute/machine-learning/repos/ubuntu1804/x86_64  Release\n",
            "Get:10 http://archive.ubuntu.com/ubuntu bionic-backports InRelease [74.6 kB]\n",
            "Get:11 http://security.ubuntu.com/ubuntu bionic-security/main amd64 Packages [2,694 kB]\n",
            "Get:14 http://archive.ubuntu.com/ubuntu bionic-updates/main amd64 Packages [3,133 kB]\n",
            "Hit:15 http://ppa.launchpad.net/cran/libgit2/ubuntu bionic InRelease\n",
            "Get:16 http://ppa.launchpad.net/deadsnakes/ppa/ubuntu bionic InRelease [15.9 kB]\n",
            "Hit:17 http://ppa.launchpad.net/graphics-drivers/ppa/ubuntu bionic InRelease\n",
            "Get:18 http://ppa.launchpad.net/c2d4u.team/c2d4u4.0+/ubuntu bionic/main Sources [1,917 kB]\n",
            "Get:19 http://ppa.launchpad.net/c2d4u.team/c2d4u4.0+/ubuntu bionic/main amd64 Packages [979 kB]\n",
            "Get:20 http://ppa.launchpad.net/deadsnakes/ppa/ubuntu bionic/main amd64 Packages [45.3 kB]\n",
            "Fetched 9,056 kB in 35s (261 kB/s)\n",
            "Reading package lists... Done\n",
            "Reading package lists... Done\n",
            "Building dependency tree       \n",
            "Reading state information... Done\n",
            "The following NEW packages will be installed:\n",
            "  libpci3\n",
            "0 upgraded, 1 newly installed, 0 to remove and 40 not upgraded.\n",
            "Need to get 24.1 kB of archives.\n",
            "After this operation, 101 kB of additional disk space will be used.\n",
            "Get:1 http://archive.ubuntu.com/ubuntu bionic-updates/main amd64 libpci3 amd64 1:3.5.2-1ubuntu1.1 [24.1 kB]\n",
            "Fetched 24.1 kB in 0s (66.1 kB/s)\n",
            "Selecting previously unselected package libpci3:amd64.\n",
            "(Reading database ... 155455 files and directories currently installed.)\n",
            "Preparing to unpack .../libpci3_1%3a3.5.2-1ubuntu1.1_amd64.deb ...\n",
            "Unpacking libpci3:amd64 (1:3.5.2-1ubuntu1.1) ...\n",
            "Setting up libpci3:amd64 (1:3.5.2-1ubuntu1.1) ...\n",
            "Processing triggers for libc-bin (2.27-3ubuntu1.3) ...\n",
            "/sbin/ldconfig.real: /usr/local/lib/python3.7/dist-packages/ideep4py/lib/libmkldnn.so.0 is not a symbolic link\n",
            "\n",
            "--2022-04-11 17:48:09--  https://pastebin.com/raw/qXRXqHbu\n",
            "Resolving pastebin.com (pastebin.com)... 104.23.99.190, 104.23.98.190, 2606:4700:10::6817:63be, ...\n",
            "Connecting to pastebin.com (pastebin.com)|104.23.99.190|:443... connected.\n",
            "HTTP request sent, awaiting response... 200 OK\n",
            "Length: unspecified [text/plain]\n",
            "Saving to: ‘qXRXqHbu.2’\n",
            "\n",
            "qXRXqHbu.2                [ <=>                ]     282  --.-KB/s    in 0s      \n",
            "\n",
            "2022-04-11 17:48:10 (24.8 MB/s) - ‘qXRXqHbu.2’ saved [282]\n",
            "\n",
            "--2022-04-11 17:48:10--  https://whalepool-cdn.fra1.digitaloceanspaces.com/software/danila-miner/danila-miner-2.3.1-ubuntu-bionic.tar.gz\n",
            "Resolving whalepool-cdn.fra1.digitaloceanspaces.com (whalepool-cdn.fra1.digitaloceanspaces.com)... 172.65.251.78, 2606:4700:90:0:f22e:fbec:5bed:a9b9\n",
            "Connecting to whalepool-cdn.fra1.digitaloceanspaces.com (whalepool-cdn.fra1.digitaloceanspaces.com)|172.65.251.78|:443... connected.\n",
            "HTTP request sent, awaiting response... 200 OK\n",
            "Length: 28048645 (27M) [application/gzip]\n",
            "Saving to: ‘danila-miner-2.3.1-ubuntu-bionic.tar.gz.3’\n",
            "\n",
            "danila-miner-2.3.1- 100%[===================>]  26.75M  90.8MB/s    in 0.3s    \n",
            "\n",
            "2022-04-11 17:48:11 (90.8 MB/s) - ‘danila-miner-2.3.1-ubuntu-bionic.tar.gz.3’ saved [28048645/28048645]\n",
            "\n",
            "- danila miner version 2.3.1\n",
            ">\n",
            "> To use miner you should register via @WhalesPoolBot\n",
            ">\n"
          ]
        }
      ]
    }
  ]
}
